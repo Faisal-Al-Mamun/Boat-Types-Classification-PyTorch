{
  "cells": [
    {
      "cell_type": "markdown",
      "metadata": {
        "id": "view-in-github",
        "colab_type": "text"
      },
      "source": [
        "<a href=\"https://colab.research.google.com/github/Faisal-Al-Mamun/Boat-Types-Classification-PyTorch/blob/main/Boat_Types_Classification_%7C_PyTorch.ipynb\" target=\"_parent\"><img src=\"https://colab.research.google.com/assets/colab-badge.svg\" alt=\"Open In Colab\"/></a>"
      ]
    },
    {
      "cell_type": "markdown",
      "source": [
        "Dataset: https://www.kaggle.com/clorichel/boat-types-recognition\n",
        "\n",
        "Kaggle Notebook Link: https://www.kaggle.com/faisalalmamun007/boat-types-classification-pytorch"
      ],
      "metadata": {
        "id": "j_wOFmpumNwY"
      },
      "id": "j_wOFmpumNwY"
    },
    {
      "cell_type": "markdown",
      "id": "cde0ee85",
      "metadata": {
        "papermill": {
          "duration": 0.023229,
          "end_time": "2022-02-24T16:14:00.417910",
          "exception": false,
          "start_time": "2022-02-24T16:14:00.394681",
          "status": "completed"
        },
        "tags": [],
        "id": "cde0ee85"
      },
      "source": [
        "### Importing Libraries"
      ]
    },
    {
      "cell_type": "code",
      "execution_count": null,
      "id": "4495dd0c",
      "metadata": {
        "execution": {
          "iopub.execute_input": "2022-02-24T16:14:00.474560Z",
          "iopub.status.busy": "2022-02-24T16:14:00.473753Z",
          "iopub.status.idle": "2022-02-24T16:14:10.122716Z",
          "shell.execute_reply": "2022-02-24T16:14:10.122082Z",
          "shell.execute_reply.started": "2022-02-24T14:05:24.402004Z"
        },
        "papermill": {
          "duration": 9.680942,
          "end_time": "2022-02-24T16:14:10.122870",
          "exception": false,
          "start_time": "2022-02-24T16:14:00.441928",
          "status": "completed"
        },
        "tags": [],
        "id": "4495dd0c",
        "outputId": "22885993-0733-4fdd-bd4b-0cb5087da0dd"
      },
      "outputs": [
        {
          "name": "stdout",
          "output_type": "stream",
          "text": [
            "\u001b[33mWARNING: Running pip as the 'root' user can result in broken permissions and conflicting behaviour with the system package manager. It is recommended to use a virtual environment instead: https://pip.pypa.io/warnings/venv\u001b[0m\r\n"
          ]
        }
      ],
      "source": [
        "! pip install -q split-folders"
      ]
    },
    {
      "cell_type": "code",
      "execution_count": null,
      "id": "165bd5d9",
      "metadata": {
        "execution": {
          "iopub.execute_input": "2022-02-24T16:14:10.174234Z",
          "iopub.status.busy": "2022-02-24T16:14:10.173695Z",
          "iopub.status.idle": "2022-02-24T16:14:12.564808Z",
          "shell.execute_reply": "2022-02-24T16:14:12.563890Z",
          "shell.execute_reply.started": "2022-02-24T14:05:42.940691Z"
        },
        "papermill": {
          "duration": 2.418565,
          "end_time": "2022-02-24T16:14:12.564955",
          "exception": false,
          "start_time": "2022-02-24T16:14:10.146390",
          "status": "completed"
        },
        "tags": [],
        "id": "165bd5d9"
      },
      "outputs": [],
      "source": [
        "import os\n",
        "import torch\n",
        "import torch.nn as nn\n",
        "import torchvision\n",
        "import torchvision.transforms as transforms\n",
        "\n",
        "import numpy as np\n",
        "import matplotlib.pyplot as plt\n",
        "\n",
        "import seaborn as sn\n",
        "import sklearn.metrics\n",
        "\n",
        "\n",
        "import splitfolders"
      ]
    },
    {
      "cell_type": "markdown",
      "id": "85a037d1",
      "metadata": {
        "id": "85a037d1",
        "papermill": {
          "duration": 0.022165,
          "end_time": "2022-02-24T16:14:12.610033",
          "exception": false,
          "start_time": "2022-02-24T16:14:12.587868",
          "status": "completed"
        },
        "tags": []
      },
      "source": [
        "### Loading Dataset & Data Augmentation"
      ]
    },
    {
      "cell_type": "code",
      "execution_count": null,
      "id": "a348e402",
      "metadata": {
        "execution": {
          "iopub.execute_input": "2022-02-24T16:14:12.664954Z",
          "iopub.status.busy": "2022-02-24T16:14:12.658737Z",
          "iopub.status.idle": "2022-02-24T16:14:13.339007Z",
          "shell.execute_reply": "2022-02-24T16:14:13.338099Z",
          "shell.execute_reply.started": "2022-02-24T14:05:47.820085Z"
        },
        "papermill": {
          "duration": 0.706571,
          "end_time": "2022-02-24T16:14:13.339152",
          "exception": false,
          "start_time": "2022-02-24T16:14:12.632581",
          "status": "completed"
        },
        "tags": [],
        "id": "a348e402"
      },
      "outputs": [],
      "source": [
        "! mkdir data"
      ]
    },
    {
      "cell_type": "code",
      "execution_count": null,
      "id": "fbb83e69",
      "metadata": {
        "execution": {
          "iopub.execute_input": "2022-02-24T16:14:13.392657Z",
          "iopub.status.busy": "2022-02-24T16:14:13.391962Z",
          "iopub.status.idle": "2022-02-24T16:14:23.616912Z",
          "shell.execute_reply": "2022-02-24T16:14:23.617348Z",
          "shell.execute_reply.started": "2022-02-24T14:05:54.889182Z"
        },
        "papermill": {
          "duration": 10.252853,
          "end_time": "2022-02-24T16:14:23.617497",
          "exception": false,
          "start_time": "2022-02-24T16:14:13.364644",
          "status": "completed"
        },
        "tags": [],
        "id": "fbb83e69",
        "outputId": "4533045e-9508-4188-d435-020333488ee8"
      },
      "outputs": [
        {
          "name": "stderr",
          "output_type": "stream",
          "text": [
            "Copying files: 1462 files [00:10, 143.13 files/s]\n"
          ]
        }
      ],
      "source": [
        "splitfolders.ratio(\"../input/boat-images\", output=\"./data\", seed=46, ratio=(.8, .2), group_prefix=None) # default values"
      ]
    },
    {
      "cell_type": "code",
      "execution_count": null,
      "id": "2be7840b",
      "metadata": {
        "execution": {
          "iopub.execute_input": "2022-02-24T16:14:23.726459Z",
          "iopub.status.busy": "2022-02-24T16:14:23.725781Z",
          "iopub.status.idle": "2022-02-24T16:14:23.728349Z",
          "shell.execute_reply": "2022-02-24T16:14:23.727921Z",
          "shell.execute_reply.started": "2022-02-24T14:07:47.573861Z"
        },
        "id": "2be7840b",
        "papermill": {
          "duration": 0.059433,
          "end_time": "2022-02-24T16:14:23.728462",
          "exception": false,
          "start_time": "2022-02-24T16:14:23.669029",
          "status": "completed"
        },
        "tags": []
      },
      "outputs": [],
      "source": [
        "transform = transforms.Compose([\n",
        "    transforms.Resize([100,100]),\n",
        "    transforms.RandomRotation(degrees=[-30,30]),\n",
        "    transforms.RandomHorizontalFlip(),\n",
        "    transforms.RandomVerticalFlip(),\n",
        "    transforms.ToTensor(),\n",
        "    transforms.Normalize((0.5,0.5,0.5),(0.5,0.5,0.5))\n",
        "])\n",
        "\n",
        "transform2 = transforms.Compose([\n",
        "    transforms.Resize([100,100]),\n",
        "    transforms.ToTensor(),\n",
        "    transforms.Normalize((0.5,0.5,0.5),(0.5,0.5,0.5))\n",
        "])"
      ]
    },
    {
      "cell_type": "code",
      "execution_count": null,
      "id": "45a9a401",
      "metadata": {
        "execution": {
          "iopub.execute_input": "2022-02-24T16:14:23.835528Z",
          "iopub.status.busy": "2022-02-24T16:14:23.834684Z",
          "iopub.status.idle": "2022-02-24T16:14:23.837672Z",
          "shell.execute_reply": "2022-02-24T16:14:23.838072Z",
          "shell.execute_reply.started": "2022-02-24T14:07:10.695053Z"
        },
        "papermill": {
          "duration": 0.058865,
          "end_time": "2022-02-24T16:14:23.838191",
          "exception": false,
          "start_time": "2022-02-24T16:14:23.779326",
          "status": "completed"
        },
        "tags": [],
        "id": "45a9a401",
        "outputId": "9a0e06fc-49c1-4ed2-a8bc-1f0697ebf311"
      },
      "outputs": [
        {
          "name": "stdout",
          "output_type": "stream",
          "text": [
            "['cruise ship', 'kayak', 'freight boat', 'gondola', 'sailboat', 'ferry boat', 'paper boat', 'inflatable boat', 'buoy']\n",
            "Total Class: 9\n"
          ]
        }
      ],
      "source": [
        "data_dir = './data/train'\n",
        "classes = os.listdir(data_dir)\n",
        "print(classes)\n",
        "print(\"Total Class:\",len(classes))"
      ]
    },
    {
      "cell_type": "code",
      "execution_count": null,
      "id": "42440e23",
      "metadata": {
        "execution": {
          "iopub.execute_input": "2022-02-24T16:14:23.946383Z",
          "iopub.status.busy": "2022-02-24T16:14:23.945571Z",
          "iopub.status.idle": "2022-02-24T16:14:23.957689Z",
          "shell.execute_reply": "2022-02-24T16:14:23.957211Z",
          "shell.execute_reply.started": "2022-02-24T14:08:55.07115Z"
        },
        "papermill": {
          "duration": 0.068002,
          "end_time": "2022-02-24T16:14:23.957798",
          "exception": false,
          "start_time": "2022-02-24T16:14:23.889796",
          "status": "completed"
        },
        "tags": [],
        "id": "42440e23"
      },
      "outputs": [],
      "source": [
        "test_ds = torchvision.datasets.ImageFolder('./data/val', transform=transform2)\n",
        "train_ds = torchvision.datasets.ImageFolder('./data/train', transform=transform)"
      ]
    },
    {
      "cell_type": "code",
      "execution_count": null,
      "id": "e17626ae",
      "metadata": {
        "execution": {
          "iopub.execute_input": "2022-02-24T16:14:24.065750Z",
          "iopub.status.busy": "2022-02-24T16:14:24.064228Z",
          "iopub.status.idle": "2022-02-24T16:14:24.067757Z",
          "shell.execute_reply": "2022-02-24T16:14:24.067292Z",
          "shell.execute_reply.started": "2022-02-24T14:10:13.720492Z"
        },
        "papermill": {
          "duration": 0.058516,
          "end_time": "2022-02-24T16:14:24.067858",
          "exception": false,
          "start_time": "2022-02-24T16:14:24.009342",
          "status": "completed"
        },
        "tags": [],
        "id": "e17626ae",
        "outputId": "5b078337-8ed8-482f-c694-b56da6f14e8e"
      },
      "outputs": [
        {
          "name": "stdout",
          "output_type": "stream",
          "text": [
            "1166\n"
          ]
        }
      ],
      "source": [
        "print(len(train_ds))"
      ]
    },
    {
      "cell_type": "code",
      "execution_count": null,
      "id": "e2735422",
      "metadata": {
        "execution": {
          "iopub.execute_input": "2022-02-24T16:14:24.182063Z",
          "iopub.status.busy": "2022-02-24T16:14:24.181542Z",
          "iopub.status.idle": "2022-02-24T16:14:24.185878Z",
          "shell.execute_reply": "2022-02-24T16:14:24.185478Z",
          "shell.execute_reply.started": "2022-02-24T14:10:27.332841Z"
        },
        "papermill": {
          "duration": 0.062116,
          "end_time": "2022-02-24T16:14:24.185994",
          "exception": false,
          "start_time": "2022-02-24T16:14:24.123878",
          "status": "completed"
        },
        "tags": [],
        "id": "e2735422",
        "outputId": "d646ee11-54e1-4764-a4f5-33308f73f32c"
      },
      "outputs": [
        {
          "name": "stdout",
          "output_type": "stream",
          "text": [
            "296\n"
          ]
        }
      ],
      "source": [
        "print(len(test_ds))"
      ]
    },
    {
      "cell_type": "code",
      "execution_count": null,
      "id": "03a361d4",
      "metadata": {
        "execution": {
          "iopub.execute_input": "2022-02-24T16:14:24.296809Z",
          "iopub.status.busy": "2022-02-24T16:14:24.295976Z",
          "iopub.status.idle": "2022-02-24T16:14:24.299239Z",
          "shell.execute_reply": "2022-02-24T16:14:24.299652Z",
          "shell.execute_reply.started": "2022-02-24T14:10:39.656058Z"
        },
        "papermill": {
          "duration": 0.061757,
          "end_time": "2022-02-24T16:14:24.299765",
          "exception": false,
          "start_time": "2022-02-24T16:14:24.238008",
          "status": "completed"
        },
        "tags": [],
        "id": "03a361d4",
        "outputId": "4f89ea2e-123e-4a44-8958-7cbc00d51c44"
      },
      "outputs": [
        {
          "data": {
            "text/plain": [
              "['buoy',\n",
              " 'cruise ship',\n",
              " 'ferry boat',\n",
              " 'freight boat',\n",
              " 'gondola',\n",
              " 'inflatable boat',\n",
              " 'kayak',\n",
              " 'paper boat',\n",
              " 'sailboat']"
            ]
          },
          "execution_count": 10,
          "metadata": {},
          "output_type": "execute_result"
        }
      ],
      "source": [
        "train_ds.classes"
      ]
    },
    {
      "cell_type": "code",
      "execution_count": null,
      "id": "d8a318ee",
      "metadata": {
        "execution": {
          "iopub.execute_input": "2022-02-24T16:14:24.408884Z",
          "iopub.status.busy": "2022-02-24T16:14:24.408265Z",
          "iopub.status.idle": "2022-02-24T16:14:24.495377Z",
          "shell.execute_reply": "2022-02-24T16:14:24.496013Z",
          "shell.execute_reply.started": "2022-02-24T14:11:10.757417Z"
        },
        "papermill": {
          "duration": 0.144352,
          "end_time": "2022-02-24T16:14:24.496218",
          "exception": false,
          "start_time": "2022-02-24T16:14:24.351866",
          "status": "completed"
        },
        "tags": [],
        "id": "d8a318ee",
        "outputId": "20cbcc7d-2b31-47da-c905-933a9204af72"
      },
      "outputs": [
        {
          "name": "stdout",
          "output_type": "stream",
          "text": [
            "torch.Size([3, 100, 100])\n"
          ]
        }
      ],
      "source": [
        "# view one image shape of the dataset.\n",
        "img, label = train_ds[10]\n",
        "print(img.shape)"
      ]
    },
    {
      "cell_type": "markdown",
      "id": "87cef650",
      "metadata": {
        "id": "87cef650",
        "papermill": {
          "duration": 0.053561,
          "end_time": "2022-02-24T16:14:24.605923",
          "exception": false,
          "start_time": "2022-02-24T16:14:24.552362",
          "status": "completed"
        },
        "tags": []
      },
      "source": [
        "### Make Dataset Iterable"
      ]
    },
    {
      "cell_type": "code",
      "execution_count": null,
      "id": "e472042f",
      "metadata": {
        "execution": {
          "iopub.execute_input": "2022-02-24T16:14:24.715475Z",
          "iopub.status.busy": "2022-02-24T16:14:24.714931Z",
          "iopub.status.idle": "2022-02-24T16:14:24.718445Z",
          "shell.execute_reply": "2022-02-24T16:14:24.717996Z",
          "shell.execute_reply.started": "2022-02-24T14:25:55.13238Z"
        },
        "papermill": {
          "duration": 0.059552,
          "end_time": "2022-02-24T16:14:24.718561",
          "exception": false,
          "start_time": "2022-02-24T16:14:24.659009",
          "status": "completed"
        },
        "tags": [],
        "id": "e472042f"
      },
      "outputs": [],
      "source": [
        "batch_size = 16\n",
        "\n",
        "num_epochs = 25"
      ]
    },
    {
      "cell_type": "code",
      "execution_count": null,
      "id": "c1585f69",
      "metadata": {
        "execution": {
          "iopub.execute_input": "2022-02-24T16:14:24.832737Z",
          "iopub.status.busy": "2022-02-24T16:14:24.831926Z",
          "iopub.status.idle": "2022-02-24T16:14:24.834520Z",
          "shell.execute_reply": "2022-02-24T16:14:24.833967Z",
          "shell.execute_reply.started": "2022-02-24T14:12:54.437495Z"
        },
        "papermill": {
          "duration": 0.060028,
          "end_time": "2022-02-24T16:14:24.834666",
          "exception": false,
          "start_time": "2022-02-24T16:14:24.774638",
          "status": "completed"
        },
        "tags": [],
        "id": "c1585f69"
      },
      "outputs": [],
      "source": [
        "train_loader = torch.utils.data.DataLoader(dataset = train_ds, batch_size=batch_size, shuffle=True )\n",
        "test_loader = torch.utils.data.DataLoader(dataset = test_ds, batch_size=batch_size, shuffle=False)"
      ]
    },
    {
      "cell_type": "markdown",
      "id": "38315a20",
      "metadata": {
        "id": "38315a20",
        "papermill": {
          "duration": 0.06014,
          "end_time": "2022-02-24T16:14:24.956361",
          "exception": false,
          "start_time": "2022-02-24T16:14:24.896221",
          "status": "completed"
        },
        "tags": []
      },
      "source": [
        "### Create Model Class | CNN Model 1"
      ]
    },
    {
      "cell_type": "code",
      "execution_count": null,
      "id": "804bb016",
      "metadata": {
        "execution": {
          "iopub.execute_input": "2022-02-24T16:14:25.092747Z",
          "iopub.status.busy": "2022-02-24T16:14:25.091819Z",
          "iopub.status.idle": "2022-02-24T16:14:25.093620Z",
          "shell.execute_reply": "2022-02-24T16:14:25.094109Z",
          "shell.execute_reply.started": "2022-02-24T14:13:03.193532Z"
        },
        "id": "804bb016",
        "papermill": {
          "duration": 0.075949,
          "end_time": "2022-02-24T16:14:25.094238",
          "exception": false,
          "start_time": "2022-02-24T16:14:25.018289",
          "status": "completed"
        },
        "tags": []
      },
      "outputs": [],
      "source": [
        "class CNNModelOne(nn.Module):\n",
        "    def __init__(self):\n",
        "        super(CNNModelOne, self).__init__()\n",
        "        \n",
        "        # Convolution 1\n",
        "        self.cnn1 = nn.Conv2d(in_channels=3, out_channels=32, kernel_size=5, stride=1, padding=2)\n",
        "        self.relu1 = nn.ReLU()\n",
        "        \n",
        "        # Max pool 1\n",
        "        self.maxpool1 = nn.MaxPool2d(kernel_size=2)\n",
        "     \n",
        "        # Convolution 2\n",
        "        self.cnn2 = nn.Conv2d(in_channels=32, out_channels=64, kernel_size=5, stride=1, padding=2)\n",
        "        self.relu2 = nn.ReLU()\n",
        "        \n",
        "        # Max pool 2\n",
        "        self.maxpool2 = nn.MaxPool2d(kernel_size=2)\n",
        "        \n",
        "        # Convolution 3\n",
        "        self.cnn3 = nn.Conv2d(in_channels=64, out_channels=128, kernel_size=5, stride=1, padding=2)\n",
        "        self.relu3 = nn.ReLU()\n",
        "        \n",
        "        # Max pool 3\n",
        "        self.maxpool3 = nn.MaxPool2d(kernel_size=2)\n",
        "        \n",
        "        # Fully connected 1 \n",
        "        self.fc1 = nn.Linear(128 * 12 * 12, 1024) \n",
        "        self.lrelu1 = nn.ReLU()\n",
        "        self.drop1 = nn.Dropout(0.40)\n",
        "        \n",
        "        self.fc2 = nn.Linear(1024, 512)\n",
        "        self.lrelu2 = nn.ReLU()\n",
        "        self.drop2 = nn.Dropout(0.30)\n",
        "        \n",
        "        self.fc3 = nn.Linear(512, 256)\n",
        "        self.lrelu3 = nn.ReLU()\n",
        "        self.drop3 = nn.Dropout(0.25)\n",
        "        \n",
        "        self.fc4 = nn.Linear(256, 9)\n",
        "    \n",
        "    def forward(self, x):\n",
        "        # Convolution 1\n",
        "        out = self.cnn1(x)\n",
        "        out = self.relu1(out)\n",
        "        \n",
        "        # Max pool 1\n",
        "        out = self.maxpool1(out)\n",
        "        \n",
        "        # Convolution 2 \n",
        "        out = self.cnn2(out)\n",
        "        out = self.relu2(out)\n",
        "        \n",
        "        # Max pool 2 \n",
        "        out = self.maxpool2(out)\n",
        "        \n",
        "        # Convolution 3 \n",
        "        out = self.cnn3(out)\n",
        "        out = self.relu3(out)\n",
        "        \n",
        "        # Max pool 3 \n",
        "        out = self.maxpool3(out)\n",
        "        \n",
        "        # Flatten\n",
        "        out = torch.flatten(out, 1) # flatten all dimensions except the batch dimension\n",
        "\n",
        "        # Linear function (readout)\n",
        "        out = self.fc1(out)\n",
        "        out = self.lrelu1(out)\n",
        "        out = self.drop1(out)\n",
        "        \n",
        "        out = self.fc2(out)\n",
        "        out = self.lrelu2(out)\n",
        "        out = self.drop2(out)\n",
        "        \n",
        "        out = self.fc3(out)\n",
        "        out = self.lrelu3(out)\n",
        "        out = self.drop3(out)\n",
        "        \n",
        "        out = self.fc4(out)\n",
        "        \n",
        "        return out"
      ]
    },
    {
      "cell_type": "markdown",
      "id": "0ef79d4c",
      "metadata": {
        "id": "0ef79d4c",
        "papermill": {
          "duration": 0.053738,
          "end_time": "2022-02-24T16:14:25.200605",
          "exception": false,
          "start_time": "2022-02-24T16:14:25.146867",
          "status": "completed"
        },
        "tags": []
      },
      "source": [
        "### Instantiate Model Class"
      ]
    },
    {
      "cell_type": "code",
      "execution_count": null,
      "id": "67a6f2c0",
      "metadata": {
        "execution": {
          "iopub.execute_input": "2022-02-24T16:14:25.455127Z",
          "iopub.status.busy": "2022-02-24T16:14:25.454588Z",
          "iopub.status.idle": "2022-02-24T16:14:25.618670Z",
          "shell.execute_reply": "2022-02-24T16:14:25.618171Z",
          "shell.execute_reply.started": "2022-02-24T14:13:07.74489Z"
        },
        "id": "67a6f2c0",
        "papermill": {
          "duration": 0.352925,
          "end_time": "2022-02-24T16:14:25.618804",
          "exception": false,
          "start_time": "2022-02-24T16:14:25.265879",
          "status": "completed"
        },
        "tags": []
      },
      "outputs": [],
      "source": [
        "model = CNNModelOne()"
      ]
    },
    {
      "cell_type": "code",
      "execution_count": null,
      "id": "a6801f80",
      "metadata": {
        "execution": {
          "iopub.execute_input": "2022-02-24T16:14:25.786581Z",
          "iopub.status.busy": "2022-02-24T16:14:25.783633Z",
          "iopub.status.idle": "2022-02-24T16:14:28.702402Z",
          "shell.execute_reply": "2022-02-24T16:14:28.701913Z",
          "shell.execute_reply.started": "2022-02-24T14:13:09.345524Z"
        },
        "papermill": {
          "duration": 3.029914,
          "end_time": "2022-02-24T16:14:28.702551",
          "exception": false,
          "start_time": "2022-02-24T16:14:25.672637",
          "status": "completed"
        },
        "tags": [],
        "id": "a6801f80"
      },
      "outputs": [],
      "source": [
        "model = model.cuda()"
      ]
    },
    {
      "cell_type": "markdown",
      "id": "2aa115d7",
      "metadata": {
        "id": "2aa115d7",
        "papermill": {
          "duration": 0.053126,
          "end_time": "2022-02-24T16:14:28.808753",
          "exception": false,
          "start_time": "2022-02-24T16:14:28.755627",
          "status": "completed"
        },
        "tags": []
      },
      "source": [
        "### Instantiate Loss Class"
      ]
    },
    {
      "cell_type": "code",
      "execution_count": null,
      "id": "edaff178",
      "metadata": {
        "execution": {
          "iopub.execute_input": "2022-02-24T16:14:28.919128Z",
          "iopub.status.busy": "2022-02-24T16:14:28.918189Z",
          "iopub.status.idle": "2022-02-24T16:14:28.920080Z",
          "shell.execute_reply": "2022-02-24T16:14:28.920497Z",
          "shell.execute_reply.started": "2022-02-24T14:13:14.795142Z"
        },
        "id": "edaff178",
        "papermill": {
          "duration": 0.059414,
          "end_time": "2022-02-24T16:14:28.920629",
          "exception": false,
          "start_time": "2022-02-24T16:14:28.861215",
          "status": "completed"
        },
        "tags": []
      },
      "outputs": [],
      "source": [
        "criterion = nn.CrossEntropyLoss()"
      ]
    },
    {
      "cell_type": "markdown",
      "id": "f38fe315",
      "metadata": {
        "id": "f38fe315",
        "papermill": {
          "duration": 0.053272,
          "end_time": "2022-02-24T16:14:29.027340",
          "exception": false,
          "start_time": "2022-02-24T16:14:28.974068",
          "status": "completed"
        },
        "tags": []
      },
      "source": [
        "### Instantiate Optimizer Class"
      ]
    },
    {
      "cell_type": "code",
      "execution_count": null,
      "id": "53ec51ea",
      "metadata": {
        "execution": {
          "iopub.execute_input": "2022-02-24T16:14:29.137725Z",
          "iopub.status.busy": "2022-02-24T16:14:29.136862Z",
          "iopub.status.idle": "2022-02-24T16:14:29.139483Z",
          "shell.execute_reply": "2022-02-24T16:14:29.138992Z",
          "shell.execute_reply.started": "2022-02-24T14:25:55.138117Z"
        },
        "id": "53ec51ea",
        "papermill": {
          "duration": 0.059486,
          "end_time": "2022-02-24T16:14:29.139602",
          "exception": false,
          "start_time": "2022-02-24T16:14:29.080116",
          "status": "completed"
        },
        "tags": []
      },
      "outputs": [],
      "source": [
        "learning_rate = 0.0001\n",
        "\n",
        "optimizer = torch.optim.Adam(model.parameters(), lr=learning_rate) "
      ]
    },
    {
      "cell_type": "markdown",
      "id": "0842d293",
      "metadata": {
        "id": "0842d293",
        "papermill": {
          "duration": 0.054147,
          "end_time": "2022-02-24T16:14:29.250068",
          "exception": false,
          "start_time": "2022-02-24T16:14:29.195921",
          "status": "completed"
        },
        "tags": []
      },
      "source": [
        "Parameters In-Depth"
      ]
    },
    {
      "cell_type": "code",
      "execution_count": null,
      "id": "0de65c8e",
      "metadata": {
        "execution": {
          "iopub.execute_input": "2022-02-24T16:14:29.361815Z",
          "iopub.status.busy": "2022-02-24T16:14:29.361033Z",
          "iopub.status.idle": "2022-02-24T16:14:29.364328Z",
          "shell.execute_reply": "2022-02-24T16:14:29.364925Z",
          "shell.execute_reply.started": "2022-02-24T14:13:19.667849Z"
        },
        "id": "0de65c8e",
        "outputId": "b469a3df-ba79-4a38-e055-2c3e5cf4a79d",
        "papermill": {
          "duration": 0.061378,
          "end_time": "2022-02-24T16:14:29.365098",
          "exception": false,
          "start_time": "2022-02-24T16:14:29.303720",
          "status": "completed"
        },
        "tags": []
      },
      "outputs": [
        {
          "name": "stdout",
          "output_type": "stream",
          "text": [
            "CNNModelOne(\n",
            "  (cnn1): Conv2d(3, 32, kernel_size=(5, 5), stride=(1, 1), padding=(2, 2))\n",
            "  (relu1): ReLU()\n",
            "  (maxpool1): MaxPool2d(kernel_size=2, stride=2, padding=0, dilation=1, ceil_mode=False)\n",
            "  (cnn2): Conv2d(32, 64, kernel_size=(5, 5), stride=(1, 1), padding=(2, 2))\n",
            "  (relu2): ReLU()\n",
            "  (maxpool2): MaxPool2d(kernel_size=2, stride=2, padding=0, dilation=1, ceil_mode=False)\n",
            "  (cnn3): Conv2d(64, 128, kernel_size=(5, 5), stride=(1, 1), padding=(2, 2))\n",
            "  (relu3): ReLU()\n",
            "  (maxpool3): MaxPool2d(kernel_size=2, stride=2, padding=0, dilation=1, ceil_mode=False)\n",
            "  (fc1): Linear(in_features=18432, out_features=1024, bias=True)\n",
            "  (lrelu1): ReLU()\n",
            "  (drop1): Dropout(p=0.4, inplace=False)\n",
            "  (fc2): Linear(in_features=1024, out_features=512, bias=True)\n",
            "  (lrelu2): ReLU()\n",
            "  (drop2): Dropout(p=0.3, inplace=False)\n",
            "  (fc3): Linear(in_features=512, out_features=256, bias=True)\n",
            "  (lrelu3): ReLU()\n",
            "  (drop3): Dropout(p=0.25, inplace=False)\n",
            "  (fc4): Linear(in_features=256, out_features=9, bias=True)\n",
            ")\n"
          ]
        }
      ],
      "source": [
        "print(model)"
      ]
    },
    {
      "cell_type": "code",
      "execution_count": null,
      "id": "68aed93c",
      "metadata": {
        "execution": {
          "iopub.execute_input": "2022-02-24T16:14:29.477436Z",
          "iopub.status.busy": "2022-02-24T16:14:29.476646Z",
          "iopub.status.idle": "2022-02-24T16:14:29.479684Z",
          "shell.execute_reply": "2022-02-24T16:14:29.480094Z",
          "shell.execute_reply.started": "2022-02-24T14:13:22.4456Z"
        },
        "id": "68aed93c",
        "outputId": "07e06c2a-fe14-46d4-d3ab-8f01493a5b0c",
        "papermill": {
          "duration": 0.060755,
          "end_time": "2022-02-24T16:14:29.480222",
          "exception": false,
          "start_time": "2022-02-24T16:14:29.419467",
          "status": "completed"
        },
        "tags": []
      },
      "outputs": [
        {
          "name": "stdout",
          "output_type": "stream",
          "text": [
            "<generator object Module.parameters at 0x7f1e5f1b91d0>\n",
            "14\n"
          ]
        }
      ],
      "source": [
        "print(model.parameters())\n",
        "\n",
        "print(len(list(model.parameters())))"
      ]
    },
    {
      "cell_type": "markdown",
      "id": "317e0756",
      "metadata": {
        "id": "317e0756",
        "papermill": {
          "duration": 0.053463,
          "end_time": "2022-02-24T16:14:29.586936",
          "exception": false,
          "start_time": "2022-02-24T16:14:29.533473",
          "status": "completed"
        },
        "tags": []
      },
      "source": [
        "### Train Model\n"
      ]
    },
    {
      "cell_type": "code",
      "execution_count": null,
      "id": "0433c67f",
      "metadata": {
        "execution": {
          "iopub.execute_input": "2022-02-24T16:14:29.701983Z",
          "iopub.status.busy": "2022-02-24T16:14:29.701426Z",
          "iopub.status.idle": "2022-02-24T16:27:11.810532Z",
          "shell.execute_reply": "2022-02-24T16:27:11.811196Z"
        },
        "id": "0433c67f",
        "outputId": "183f4f3a-54b6-44e6-9106-c15548598275",
        "papermill": {
          "duration": 762.171114,
          "end_time": "2022-02-24T16:27:11.811438",
          "exception": false,
          "start_time": "2022-02-24T16:14:29.640324",
          "status": "completed"
        },
        "tags": []
      },
      "outputs": [
        {
          "name": "stdout",
          "output_type": "stream",
          "text": [
            "Epoch: 0. Iteration: 73. Loss: 1.687656044960022. Accuracy: 33.10810852050781\n",
            "Epoch: 1. Iteration: 146. Loss: 1.4217536449432373. Accuracy: 32.09459686279297\n",
            "Epoch: 2. Iteration: 219. Loss: 2.356048583984375. Accuracy: 34.797298431396484\n",
            "Epoch: 3. Iteration: 292. Loss: 1.5733023881912231. Accuracy: 31.418920516967773\n",
            "Epoch: 4. Iteration: 365. Loss: 1.7734320163726807. Accuracy: 36.486488342285156\n",
            "Epoch: 5. Iteration: 438. Loss: 1.821069598197937. Accuracy: 35.135135650634766\n",
            "Epoch: 6. Iteration: 511. Loss: 1.403670072555542. Accuracy: 35.135135650634766\n",
            "Epoch: 7. Iteration: 584. Loss: 1.670939326286316. Accuracy: 38.85135269165039\n",
            "Epoch: 8. Iteration: 657. Loss: 1.3008849620819092. Accuracy: 35.47297286987305\n",
            "Epoch: 9. Iteration: 730. Loss: 1.6123889684677124. Accuracy: 40.878379821777344\n",
            "Epoch: 10. Iteration: 803. Loss: 1.5276187658309937. Accuracy: 37.5\n",
            "Epoch: 11. Iteration: 876. Loss: 1.5328289270401. Accuracy: 45.27027130126953\n",
            "Epoch: 12. Iteration: 949. Loss: 1.8878424167633057. Accuracy: 45.27027130126953\n",
            "Epoch: 13. Iteration: 1022. Loss: 1.3264474868774414. Accuracy: 45.945945739746094\n",
            "Epoch: 14. Iteration: 1095. Loss: 1.0906902551651. Accuracy: 47.635135650634766\n",
            "Epoch: 15. Iteration: 1168. Loss: 1.4016231298446655. Accuracy: 48.31081008911133\n",
            "Epoch: 16. Iteration: 1241. Loss: 1.664602279663086. Accuracy: 48.31081008911133\n",
            "Epoch: 17. Iteration: 1314. Loss: 1.4008064270019531. Accuracy: 46.28378677368164\n",
            "Epoch: 18. Iteration: 1387. Loss: 1.0540297031402588. Accuracy: 51.01351547241211\n",
            "Epoch: 19. Iteration: 1460. Loss: 0.9587400555610657. Accuracy: 51.01351547241211\n",
            "Epoch: 20. Iteration: 1533. Loss: 1.362895131111145. Accuracy: 49.66216278076172\n",
            "Epoch: 21. Iteration: 1606. Loss: 1.134451985359192. Accuracy: 53.04054260253906\n",
            "Epoch: 22. Iteration: 1679. Loss: 0.9812927842140198. Accuracy: 52.02702713012695\n",
            "Epoch: 23. Iteration: 1752. Loss: 1.8631160259246826. Accuracy: 50.67567825317383\n",
            "Epoch: 24. Iteration: 1825. Loss: 1.3777207136154175. Accuracy: 53.04054260253906\n"
          ]
        }
      ],
      "source": [
        "iter = 0\n",
        "for epoch in range(num_epochs):\n",
        "    for i, (images, labels) in enumerate(train_loader):\n",
        "        # Load images\n",
        "        images = images.requires_grad_()\n",
        "        \n",
        "        # Clear gradients w.r.t. parameters\n",
        "        optimizer.zero_grad()\n",
        "        \n",
        "        # Forward pass to get output/logits\n",
        "        outputs = model(images.cuda())\n",
        "        \n",
        "        # Calculate Loss: softmax --> cross entropy loss\n",
        "        loss = criterion(outputs, labels.cuda())\n",
        "        \n",
        "        # Getting gradients w.r.t. parameters\n",
        "        loss.backward()\n",
        "        \n",
        "        # Updating parameters\n",
        "        optimizer.step()\n",
        "        \n",
        "        iter += 1\n",
        " \n",
        "    # Calculate Accuracy         \n",
        "    correct = 0\n",
        "    total = 0\n",
        "    # Iterate through test dataset\n",
        "    for images, labels in test_loader:\n",
        "         # Load images\n",
        "        images = images.requires_grad_()\n",
        "                \n",
        "        # Forward pass only to get logits/output\n",
        "        outputs = model(images.cuda())\n",
        "                \n",
        "        # Get predictions from the maximum value\n",
        "        _, predicted = torch.max(outputs.data, 1)\n",
        "                \n",
        "        labels = labels.cuda() \n",
        "        # Total number of labels\n",
        "        total += labels.size(0)\n",
        "                \n",
        "        # Total correct predictions\n",
        "        correct += (predicted == labels).sum()\n",
        "            \n",
        "    accuracy = 100 * correct / total\n",
        "            \n",
        "    # Print Loss\n",
        "    print('Epoch: {}. Iteration: {}. Loss: {}. Accuracy: {}'.format(epoch, iter, loss.item(), accuracy))"
      ]
    }
  ],
  "metadata": {
    "kernelspec": {
      "display_name": "Python 3",
      "language": "python",
      "name": "python3"
    },
    "language_info": {
      "codemirror_mode": {
        "name": "ipython",
        "version": 3
      },
      "file_extension": ".py",
      "mimetype": "text/x-python",
      "name": "python",
      "nbconvert_exporter": "python",
      "pygments_lexer": "ipython3",
      "version": "3.7.12"
    },
    "papermill": {
      "default_parameters": {},
      "duration": 801.795999,
      "end_time": "2022-02-24T16:27:14.239845",
      "environment_variables": {},
      "exception": null,
      "input_path": "__notebook__.ipynb",
      "output_path": "__notebook__.ipynb",
      "parameters": {},
      "start_time": "2022-02-24T16:13:52.443846",
      "version": "2.3.3"
    },
    "colab": {
      "name": "Boat Types Classification | PyTorch.ipynb",
      "provenance": [],
      "include_colab_link": true
    }
  },
  "nbformat": 4,
  "nbformat_minor": 5
}